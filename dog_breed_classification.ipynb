{
 "cells": [
  {
   "cell_type": "markdown",
   "metadata": {},
   "source": [
    "![alt text](https://res.cloudinary.com/dk-find-out/image/upload/q_80,w_1920,f_auto/Dog-main_gdcdzd.jpg)\n",
    "\n",
    "<center>"
   ]
  },
  {
   "cell_type": "markdown",
   "metadata": {},
   "source": [
    "# Dog Breed Classifier"
   ]
  },
  {
   "cell_type": "markdown",
   "metadata": {},
   "source": [
    "**Overview**\n",
    "\n",
    "The aim of the project is to identify a breed of dog if a photo is given as input. If the photo contains a human face (or alien face), then the application will return the breed of dog that most resembles this person.\n",
    "\n",
    "In this project I have used Convolutional Neural Networks (CNNs)! A pipeline is built to process real-world, user-supplied images. Given an image of a dog, the algorithm will identify an estimate of the canine’s breed. If supplied an image of a human, the code will identify the resembling dog breed.\n",
    "\n",
    "\n",
    "**Objective**\n",
    "\n",
    "Building a model to classify between 133 different breeds of dogs and identify them\n",
    "\n",
    "**The Road Ahead**\n",
    "\n",
    "I break the notebook into separate steps to make the steps clear. The following is the steps that I followed during the project building time.\n",
    "\n",
    "1. Import Datasets\n",
    "2. Detect Humans\n",
    "3. Detect Dogs\n",
    "4. Create a CNN to Classify Dog Breeds (from Scratch)\n",
    "5. Use a CNN to Classify Dog Breeds (using Transfer Learning)\n",
    "6. Create a CNN to Classify Dog Breeds (using Transfer Learning)\n",
    "7. Write your Algorithm\n",
    "8. Test Your Algorithm"
   ]
  },
  {
   "cell_type": "markdown",
   "metadata": {},
   "source": [
    "**Step 1: Import Datasets - The datasets is provided by Udacity.**\n",
    "\n",
    "In the code cell below, I imported the dataset of dog images. I populated a few variables through the use of the load_files function from the scikit-learn library:\n",
    "\n",
    "* train_files, validation_files, test_files - numpy arrays containing file paths to images\n",
    "* train_targets, validation_targets, test_targets - numpy arrays containing onehot-encoded classification labels\n",
    "* dog_names - list of string-valued dog breed names for translating labels\n",
    "\n"
   ]
  },
  {
   "cell_type": "code",
   "execution_count": 1,
   "metadata": {},
   "outputs": [
    {
     "name": "stderr",
     "output_type": "stream",
     "text": [
      "Using TensorFlow backend.\n"
     ]
    }
   ],
   "source": [
    "from sklearn.datasets import load_files\n",
    "from keras.utils import np_utils\n",
    "import numpy as np\n",
    "from glob import glob\n",
    "\n",
    "#define function to load train, test, and validation datasets"
   ]
  },
  {
   "cell_type": "code",
   "execution_count": 2,
   "metadata": {},
   "outputs": [],
   "source": [
    "# define function to load train, test, and validation datasets\n",
    "def load_dataset(path):\n",
    "    data = load_files(path)\n",
    "    dog_files = np.array(data['filenames'])\n",
    "    dog_targets = np_utils.to_categorical(np.array(data['target']), 133)\n",
    "    return dog_files, dog_targets\n"
   ]
  },
  {
   "cell_type": "code",
   "execution_count": null,
   "metadata": {},
   "outputs": [],
   "source": []
  }
 ],
 "metadata": {
  "kernelspec": {
   "display_name": "Python 3.7 (tensorflow-gpu)",
   "language": "python",
   "name": "tensorflow-gpu"
  },
  "language_info": {
   "codemirror_mode": {
    "name": "ipython",
    "version": 3
   },
   "file_extension": ".py",
   "mimetype": "text/x-python",
   "name": "python",
   "nbconvert_exporter": "python",
   "pygments_lexer": "ipython3",
   "version": "3.7.7"
  }
 },
 "nbformat": 4,
 "nbformat_minor": 4
}
